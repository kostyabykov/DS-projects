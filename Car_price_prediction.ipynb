{
 "cells": [
  {
   "cell_type": "markdown",
   "metadata": {},
   "source": [
    "# Определение стоимости автомобилей"
   ]
  },
  {
   "cell_type": "markdown",
   "metadata": {},
   "source": [
    "Сервис по продаже автомобилей с пробегом «Не бит, не крашен» разрабатывает приложение для привлечения новых клиентов. В нём можно быстро узнать рыночную стоимость своего автомобиля. В вашем распоряжении исторические данные: технические характеристики, комплектации и цены автомобилей. Вам нужно построить модель для определения стоимости. \n",
    "\n",
    "Заказчику важны:\n",
    "\n",
    "- качество предсказания;\n",
    "- скорость предсказания;\n",
    "- время обучения.\n",
    "\n",
    "Признаки\n",
    "* DateCrawled — дата скачивания анкеты из базы\n",
    "* VehicleType — тип автомобильного кузова\n",
    "* RegistrationYear — год регистрации автомобиля\n",
    "* Gearbox — тип коробки передач\n",
    "* Power — мощность (л. с.)\n",
    "* Model — модель автомобиля\n",
    "* Kilometer — пробег (км)\n",
    "* RegistrationMonth — месяц регистрации автомобиля\n",
    "* FuelType — тип топлива\n",
    "* Brand — марка автомобиля\n",
    "* NotRepaired — была машина в ремонте или нет\n",
    "* DateCreated — дата создания анкеты\n",
    "* NumberOfPictures — количество фотографий автомобиля\n",
    "* PostalCode — почтовый индекс владельца анкеты (пользователя)\n",
    "* LastSeen — дата последней активности пользователя\n",
    "\n",
    "Целевой признак\n",
    "* Price — цена (евро)"
   ]
  },
  {
   "cell_type": "markdown",
   "metadata": {},
   "source": [
    "## Подготовка данных"
   ]
  },
  {
   "cell_type": "code",
   "execution_count": 1,
   "metadata": {},
   "outputs": [],
   "source": [
    "import pandas as pd\n",
    "import numpy as np\n",
    "import time\n",
    "import seaborn as sns\n",
    "import matplotlib.pyplot as plt\n",
    "import warnings\n",
    "warnings.filterwarnings('ignore')\n",
    "from sklearn.preprocessing import LabelEncoder\n",
    "from sklearn.metrics import mean_squared_error as mse\n",
    "from catboost import CatBoostRegressor\n",
    "import xgboost as xgb\n",
    "from lightgbm import LGBMRegressor\n",
    "from sklearn.preprocessing import StandardScaler\n",
    "from sklearn.model_selection import train_test_split, GridSearchCV, cross_val_score, KFold\n",
    "from sklearn.linear_model import LinearRegression, Lasso, Ridge\n",
    "from sklearn.ensemble import RandomForestRegressor\n",
    "from sklearn.preprocessing import OrdinalEncoder"
   ]
  },
  {
   "cell_type": "markdown",
   "metadata": {},
   "source": [
    "### Первичный осмотр данных"
   ]
  },
  {
   "cell_type": "code",
   "execution_count": 2,
   "metadata": {},
   "outputs": [
    {
     "data": {
      "text/html": [
       "<div>\n",
       "<style scoped>\n",
       "    .dataframe tbody tr th:only-of-type {\n",
       "        vertical-align: middle;\n",
       "    }\n",
       "\n",
       "    .dataframe tbody tr th {\n",
       "        vertical-align: top;\n",
       "    }\n",
       "\n",
       "    .dataframe thead th {\n",
       "        text-align: right;\n",
       "    }\n",
       "</style>\n",
       "<table border=\"1\" class=\"dataframe\">\n",
       "  <thead>\n",
       "    <tr style=\"text-align: right;\">\n",
       "      <th></th>\n",
       "      <th>DateCrawled</th>\n",
       "      <th>Price</th>\n",
       "      <th>VehicleType</th>\n",
       "      <th>RegistrationYear</th>\n",
       "      <th>Gearbox</th>\n",
       "      <th>Power</th>\n",
       "      <th>Model</th>\n",
       "      <th>Kilometer</th>\n",
       "      <th>RegistrationMonth</th>\n",
       "      <th>FuelType</th>\n",
       "      <th>Brand</th>\n",
       "      <th>NotRepaired</th>\n",
       "      <th>DateCreated</th>\n",
       "      <th>NumberOfPictures</th>\n",
       "      <th>PostalCode</th>\n",
       "      <th>LastSeen</th>\n",
       "    </tr>\n",
       "  </thead>\n",
       "  <tbody>\n",
       "    <tr>\n",
       "      <td>0</td>\n",
       "      <td>2016-03-24 11:52:17</td>\n",
       "      <td>480</td>\n",
       "      <td>NaN</td>\n",
       "      <td>1993</td>\n",
       "      <td>manual</td>\n",
       "      <td>0</td>\n",
       "      <td>golf</td>\n",
       "      <td>150000</td>\n",
       "      <td>0</td>\n",
       "      <td>petrol</td>\n",
       "      <td>volkswagen</td>\n",
       "      <td>NaN</td>\n",
       "      <td>2016-03-24 00:00:00</td>\n",
       "      <td>0</td>\n",
       "      <td>70435</td>\n",
       "      <td>2016-04-07 03:16:57</td>\n",
       "    </tr>\n",
       "    <tr>\n",
       "      <td>1</td>\n",
       "      <td>2016-03-24 10:58:45</td>\n",
       "      <td>18300</td>\n",
       "      <td>coupe</td>\n",
       "      <td>2011</td>\n",
       "      <td>manual</td>\n",
       "      <td>190</td>\n",
       "      <td>NaN</td>\n",
       "      <td>125000</td>\n",
       "      <td>5</td>\n",
       "      <td>gasoline</td>\n",
       "      <td>audi</td>\n",
       "      <td>yes</td>\n",
       "      <td>2016-03-24 00:00:00</td>\n",
       "      <td>0</td>\n",
       "      <td>66954</td>\n",
       "      <td>2016-04-07 01:46:50</td>\n",
       "    </tr>\n",
       "    <tr>\n",
       "      <td>2</td>\n",
       "      <td>2016-03-14 12:52:21</td>\n",
       "      <td>9800</td>\n",
       "      <td>suv</td>\n",
       "      <td>2004</td>\n",
       "      <td>auto</td>\n",
       "      <td>163</td>\n",
       "      <td>grand</td>\n",
       "      <td>125000</td>\n",
       "      <td>8</td>\n",
       "      <td>gasoline</td>\n",
       "      <td>jeep</td>\n",
       "      <td>NaN</td>\n",
       "      <td>2016-03-14 00:00:00</td>\n",
       "      <td>0</td>\n",
       "      <td>90480</td>\n",
       "      <td>2016-04-05 12:47:46</td>\n",
       "    </tr>\n",
       "    <tr>\n",
       "      <td>3</td>\n",
       "      <td>2016-03-17 16:54:04</td>\n",
       "      <td>1500</td>\n",
       "      <td>small</td>\n",
       "      <td>2001</td>\n",
       "      <td>manual</td>\n",
       "      <td>75</td>\n",
       "      <td>golf</td>\n",
       "      <td>150000</td>\n",
       "      <td>6</td>\n",
       "      <td>petrol</td>\n",
       "      <td>volkswagen</td>\n",
       "      <td>no</td>\n",
       "      <td>2016-03-17 00:00:00</td>\n",
       "      <td>0</td>\n",
       "      <td>91074</td>\n",
       "      <td>2016-03-17 17:40:17</td>\n",
       "    </tr>\n",
       "    <tr>\n",
       "      <td>4</td>\n",
       "      <td>2016-03-31 17:25:20</td>\n",
       "      <td>3600</td>\n",
       "      <td>small</td>\n",
       "      <td>2008</td>\n",
       "      <td>manual</td>\n",
       "      <td>69</td>\n",
       "      <td>fabia</td>\n",
       "      <td>90000</td>\n",
       "      <td>7</td>\n",
       "      <td>gasoline</td>\n",
       "      <td>skoda</td>\n",
       "      <td>no</td>\n",
       "      <td>2016-03-31 00:00:00</td>\n",
       "      <td>0</td>\n",
       "      <td>60437</td>\n",
       "      <td>2016-04-06 10:17:21</td>\n",
       "    </tr>\n",
       "  </tbody>\n",
       "</table>\n",
       "</div>"
      ],
      "text/plain": [
       "           DateCrawled  Price VehicleType  RegistrationYear Gearbox  Power  \\\n",
       "0  2016-03-24 11:52:17    480         NaN              1993  manual      0   \n",
       "1  2016-03-24 10:58:45  18300       coupe              2011  manual    190   \n",
       "2  2016-03-14 12:52:21   9800         suv              2004    auto    163   \n",
       "3  2016-03-17 16:54:04   1500       small              2001  manual     75   \n",
       "4  2016-03-31 17:25:20   3600       small              2008  manual     69   \n",
       "\n",
       "   Model  Kilometer  RegistrationMonth  FuelType       Brand NotRepaired  \\\n",
       "0   golf     150000                  0    petrol  volkswagen         NaN   \n",
       "1    NaN     125000                  5  gasoline        audi         yes   \n",
       "2  grand     125000                  8  gasoline        jeep         NaN   \n",
       "3   golf     150000                  6    petrol  volkswagen          no   \n",
       "4  fabia      90000                  7  gasoline       skoda          no   \n",
       "\n",
       "           DateCreated  NumberOfPictures  PostalCode             LastSeen  \n",
       "0  2016-03-24 00:00:00                 0       70435  2016-04-07 03:16:57  \n",
       "1  2016-03-24 00:00:00                 0       66954  2016-04-07 01:46:50  \n",
       "2  2016-03-14 00:00:00                 0       90480  2016-04-05 12:47:46  \n",
       "3  2016-03-17 00:00:00                 0       91074  2016-03-17 17:40:17  \n",
       "4  2016-03-31 00:00:00                 0       60437  2016-04-06 10:17:21  "
      ]
     },
     "execution_count": 2,
     "metadata": {},
     "output_type": "execute_result"
    }
   ],
   "source": [
    "df = pd.read_csv('/datasets/autos.csv')\n",
    "df.head(5)"
   ]
  },
  {
   "cell_type": "code",
   "execution_count": 3,
   "metadata": {},
   "outputs": [
    {
     "name": "stdout",
     "output_type": "stream",
     "text": [
      "<class 'pandas.core.frame.DataFrame'>\n",
      "RangeIndex: 354369 entries, 0 to 354368\n",
      "Data columns (total 16 columns):\n",
      "DateCrawled          354369 non-null object\n",
      "Price                354369 non-null int64\n",
      "VehicleType          316879 non-null object\n",
      "RegistrationYear     354369 non-null int64\n",
      "Gearbox              334536 non-null object\n",
      "Power                354369 non-null int64\n",
      "Model                334664 non-null object\n",
      "Kilometer            354369 non-null int64\n",
      "RegistrationMonth    354369 non-null int64\n",
      "FuelType             321474 non-null object\n",
      "Brand                354369 non-null object\n",
      "NotRepaired          283215 non-null object\n",
      "DateCreated          354369 non-null object\n",
      "NumberOfPictures     354369 non-null int64\n",
      "PostalCode           354369 non-null int64\n",
      "LastSeen             354369 non-null object\n",
      "dtypes: int64(7), object(9)\n",
      "memory usage: 43.3+ MB\n"
     ]
    }
   ],
   "source": [
    "df.info()"
   ]
  },
  {
   "cell_type": "code",
   "execution_count": 4,
   "metadata": {},
   "outputs": [
    {
     "name": "stdout",
     "output_type": "stream",
     "text": [
      "Пропуски:\n"
     ]
    },
    {
     "data": {
      "text/plain": [
       "DateCrawled              0\n",
       "Price                    0\n",
       "VehicleType          37490\n",
       "RegistrationYear         0\n",
       "Gearbox              19833\n",
       "Power                    0\n",
       "Model                19705\n",
       "Kilometer                0\n",
       "RegistrationMonth        0\n",
       "FuelType             32895\n",
       "Brand                    0\n",
       "NotRepaired          71154\n",
       "DateCreated              0\n",
       "NumberOfPictures         0\n",
       "PostalCode               0\n",
       "LastSeen                 0\n",
       "dtype: int64"
      ]
     },
     "execution_count": 4,
     "metadata": {},
     "output_type": "execute_result"
    }
   ],
   "source": [
    "print(\"Пропуски:\")\n",
    "df.isna().sum()"
   ]
  },
  {
   "cell_type": "code",
   "execution_count": 5,
   "metadata": {},
   "outputs": [],
   "source": [
    "# Удалим ненужные столбцы\n",
    "df = df.drop([\"DateCrawled\", \"PostalCode\", \"LastSeen\", \"RegistrationMonth\", \"DateCreated\", 'NumberOfPictures'], axis=1)\n"
   ]
  },
  {
   "cell_type": "markdown",
   "metadata": {},
   "source": [
    "### Работа с пропусками"
   ]
  },
  {
   "cell_type": "code",
   "execution_count": 6,
   "metadata": {},
   "outputs": [],
   "source": [
    "df['VehicleType'] = df['VehicleType'].fillna('Unknown')\n",
    "df['Model'] = df['Model'].fillna('Unknown')"
   ]
  },
  {
   "cell_type": "code",
   "execution_count": 7,
   "metadata": {},
   "outputs": [],
   "source": [
    "# Создадим словарь модель: кузов\n",
    "type_of_model = df.groupby('Model')['VehicleType'].agg(lambda x:x.value_counts().index[0]).to_dict()"
   ]
  },
  {
   "cell_type": "code",
   "execution_count": 8,
   "metadata": {},
   "outputs": [],
   "source": [
    "# Напиишем функцию замены типа машины\n",
    "def replacement(row):\n",
    "    model = row['Model']\n",
    "    vehicletype = row['VehicleType']\n",
    "    if model == 'Unknown' and  vehicletype == 'Unknown':\n",
    "        return 'Unknown'\n",
    "    elif model == 'Unknown' and  vehicletype != 'Unknown':\n",
    "        return vehicletype\n",
    "    \n",
    "    return type_of_model[model]\n",
    "\n",
    "df['VehicleType'] = df[['VehicleType', 'Model']].apply(replacement, axis=1)"
   ]
  },
  {
   "cell_type": "code",
   "execution_count": 9,
   "metadata": {},
   "outputs": [],
   "source": [
    "# Будем считать пропуски в столбце \"NotRepaired\" за отуствием ремонта\n",
    "df[\"NotRepaired\"].fillna(\"yes\", inplace=True)"
   ]
  },
  {
   "cell_type": "code",
   "execution_count": 10,
   "metadata": {},
   "outputs": [
    {
     "name": "stdout",
     "output_type": "stream",
     "text": [
      "Пропуски:\n"
     ]
    },
    {
     "data": {
      "text/plain": [
       "Price               0\n",
       "VehicleType         0\n",
       "RegistrationYear    0\n",
       "Gearbox             0\n",
       "Power               0\n",
       "Model               0\n",
       "Kilometer           0\n",
       "FuelType            0\n",
       "Brand               0\n",
       "NotRepaired         0\n",
       "dtype: int64"
      ]
     },
     "execution_count": 10,
     "metadata": {},
     "output_type": "execute_result"
    }
   ],
   "source": [
    "# Удалим оставшиеся пропуски\n",
    "df.dropna(inplace=True)\n",
    "print(\"Пропуски:\")\n",
    "df.isna().sum()"
   ]
  },
  {
   "cell_type": "code",
   "execution_count": 11,
   "metadata": {},
   "outputs": [],
   "source": [
    "#Заменим в \"NotRepaired\" yes на 1 , no на 0\n",
    "df['NotRepaired'] = df['NotRepaired'].map({'yes':1, 'no':0})"
   ]
  },
  {
   "cell_type": "markdown",
   "metadata": {},
   "source": [
    "### Поиск аномальных значений"
   ]
  },
  {
   "cell_type": "code",
   "execution_count": 12,
   "metadata": {},
   "outputs": [
    {
     "data": {
      "text/plain": [
       "[1000,\n",
       " 1200,\n",
       " 1400,\n",
       " 1600,\n",
       " 1910,\n",
       " 1919,\n",
       " 1923,\n",
       " 1927,\n",
       " 1928,\n",
       " 1929,\n",
       " 1930,\n",
       " 1931,\n",
       " 1932,\n",
       " 1933,\n",
       " 1934,\n",
       " 1935,\n",
       " 1936,\n",
       " 1937,\n",
       " 1938,\n",
       " 1940,\n",
       " 1941,\n",
       " 1942,\n",
       " 1943,\n",
       " 1944,\n",
       " 1945,\n",
       " 1946,\n",
       " 1947,\n",
       " 1948,\n",
       " 1950,\n",
       " 1951,\n",
       " 1952,\n",
       " 1953,\n",
       " 1954,\n",
       " 1955,\n",
       " 1956,\n",
       " 1957,\n",
       " 1958,\n",
       " 1959,\n",
       " 1960,\n",
       " 1961,\n",
       " 1962,\n",
       " 1963,\n",
       " 1964,\n",
       " 1965,\n",
       " 1966,\n",
       " 1967,\n",
       " 1968,\n",
       " 1969,\n",
       " 1970,\n",
       " 1971,\n",
       " 1972,\n",
       " 1973,\n",
       " 1974,\n",
       " 1975,\n",
       " 1976,\n",
       " 1977,\n",
       " 1978,\n",
       " 1979,\n",
       " 1980,\n",
       " 1981,\n",
       " 1982,\n",
       " 1983,\n",
       " 1984,\n",
       " 1985,\n",
       " 1986,\n",
       " 1987,\n",
       " 1988,\n",
       " 1989,\n",
       " 1990,\n",
       " 1991,\n",
       " 1992,\n",
       " 1993,\n",
       " 1994,\n",
       " 1995,\n",
       " 1996,\n",
       " 1997,\n",
       " 1998,\n",
       " 1999,\n",
       " 2000,\n",
       " 2001,\n",
       " 2002,\n",
       " 2003,\n",
       " 2004,\n",
       " 2005,\n",
       " 2006,\n",
       " 2007,\n",
       " 2008,\n",
       " 2009,\n",
       " 2010,\n",
       " 2011,\n",
       " 2012,\n",
       " 2013,\n",
       " 2014,\n",
       " 2015,\n",
       " 2016,\n",
       " 2017,\n",
       " 2018,\n",
       " 2019,\n",
       " 2800,\n",
       " 2900,\n",
       " 3500,\n",
       " 3700,\n",
       " 5000,\n",
       " 6000,\n",
       " 6500,\n",
       " 7500,\n",
       " 9000]"
      ]
     },
     "execution_count": 12,
     "metadata": {},
     "output_type": "execute_result"
    }
   ],
   "source": [
    "sorted(df['RegistrationYear'].unique())"
   ]
  },
  {
   "cell_type": "code",
   "execution_count": 13,
   "metadata": {},
   "outputs": [],
   "source": [
    "# Избавимся от явных выбросов в RegistrationYear \n",
    "df = df[df['RegistrationYear'] >= 1910]\n",
    "df = df[df['RegistrationYear'] <= 2019]"
   ]
  },
  {
   "cell_type": "code",
   "execution_count": 14,
   "metadata": {},
   "outputs": [],
   "source": [
    "# Избавимся от автомобилей мощностью свыше 1000 лс\n",
    "df = df[df['Power']<=1000]"
   ]
  },
  {
   "cell_type": "code",
   "execution_count": 15,
   "metadata": {},
   "outputs": [
    {
     "data": {
      "text/plain": [
       "<matplotlib.axes._subplots.AxesSubplot at 0x7fa65627dc90>"
      ]
     },
     "execution_count": 15,
     "metadata": {},
     "output_type": "execute_result"
    },
    {
     "data": {
      "image/png": "[encoded data removed]",
      "text/plain": [
       "<Figure size 432x288 with 1 Axes>"
      ]
     },
     "metadata": {
      "needs_background": "light"
     },
     "output_type": "display_data"
    }
   ],
   "source": [
    "# Рассмотрим распределение мощности автомобилей\n",
    "sns.boxplot(data=df['Power'])"
   ]
  },
  {
   "cell_type": "code",
   "execution_count": 16,
   "metadata": {},
   "outputs": [],
   "source": [
    "# Сохраним категориальные признаки для работы с catboost и lightgbm\n",
    "df_categorical = df.copy()\n",
    "categorical = ['Brand','Model','VehicleType','Gearbox','FuelType']"
   ]
  },
  {
   "cell_type": "code",
   "execution_count": 17,
   "metadata": {},
   "outputs": [],
   "source": [
    "# приведем категориальные признаки в номинальные с помощью OrdinalEncoder\n",
    "enc = OrdinalEncoder()\n",
    "enc.fit(df[['Brand','Model','VehicleType','Gearbox','FuelType']])\n",
    "df[['Brand','Model','VehicleType','Gearbox','FuelType']] = enc.transform(df[['Brand','Model','VehicleType','Gearbox','FuelType']])"
   ]
  },
  {
   "cell_type": "markdown",
   "metadata": {},
   "source": [
    "### Вывод\n",
    "Мы провели предобработку данных:  \n",
    "* Удалили ненужные столбцы\n",
    "* Заполнили частично пропуски\n",
    "* Удалили оставшиеся пропуски\n",
    "* Заменили в \"NotRepaired\" yes на 1 , no на 0\n",
    "* Избавимся от автомобилей мощностью свыше 1000 лс\n",
    "* Привели категориальные признаки в номинальные с помощью LabelEncoder\n",
    "* Стандартизировали признаки с помощью StandardScaler"
   ]
  },
  {
   "cell_type": "markdown",
   "metadata": {},
   "source": [
    "## Обучение моделей"
   ]
  },
  {
   "cell_type": "code",
   "execution_count": 18,
   "metadata": {},
   "outputs": [
    {
     "name": "stdout",
     "output_type": "stream",
     "text": [
      "Размер обучающей выборки: 217214\n",
      "Размер тренировочной выборки: 93093\n"
     ]
    }
   ],
   "source": [
    "X = df.drop('Price', axis=1)\n",
    "y = df['Price']\n",
    "\n",
    "X_train, X_test, y_train, y_test = train_test_split(X, y, test_size = 0.3, random_state = 12345)\n",
    "print('Размер обучающей выборки:', X_train.shape[0])\n",
    "print('Размер тренировочной выборки:', X_test.shape[0])"
   ]
  },
  {
   "cell_type": "code",
   "execution_count": 19,
   "metadata": {},
   "outputs": [],
   "source": [
    "df_categorical[categorical] = df_categorical[categorical].astype('category')"
   ]
  },
  {
   "cell_type": "code",
   "execution_count": 20,
   "metadata": {},
   "outputs": [
    {
     "name": "stdout",
     "output_type": "stream",
     "text": [
      "Размер обучающей выборки: 217214\n",
      "Размер тренировочной выборки: 93093\n"
     ]
    }
   ],
   "source": [
    "X_categorical = df_categorical.drop('Price', axis=1)\n",
    "y_categotical = df_categorical['Price']\n",
    "X_categorical_train, X_categorical_test, y_categotical_train, y_categotical_test = train_test_split(X_categorical, \n",
    "                                                                                                    y_categotical, \n",
    "                                                                                                    test_size = 0.3, \n",
    "                                                                                                    random_state = 12345)\n",
    "print('Размер обучающей выборки:', X_categorical_train.shape[0])\n",
    "print('Размер тренировочной выборки:', X_categorical_test.shape[0])"
   ]
  },
  {
   "cell_type": "code",
   "execution_count": 22,
   "metadata": {},
   "outputs": [],
   "source": [
    "# Стандартизируем признаки с помощью StandardScaler\n",
    "scaler = StandardScaler()\n",
    "numeric = ['RegistrationYear','Power','Kilometer']\n",
    "scaler.fit(X_train[numeric])\n",
    "X_train[numeric] = scaler.transform(X_train[numeric])\n",
    "X_test[numeric] = scaler.transform(X_test[numeric])"
   ]
  },
  {
   "cell_type": "code",
   "execution_count": 23,
   "metadata": {},
   "outputs": [],
   "source": [
    "# Напишем функцию rmse\n",
    "def rmse(pred, target):\n",
    "    return np.sqrt(mse(pred,target))"
   ]
  },
  {
   "cell_type": "code",
   "execution_count": 24,
   "metadata": {},
   "outputs": [],
   "source": [
    "# функция для вывода\n",
    "def conclusion(model, rmse, f_time, p_time):\n",
    "    a = print('RMSE модели', model,':',rmse)\n",
    "    b = print('Время обучения:',f_time,'секунд')\n",
    "    c = print('Время предсказания:', p_time,'секунд')"
   ]
  },
  {
   "cell_type": "code",
   "execution_count": 25,
   "metadata": {},
   "outputs": [],
   "source": [
    "rmse_list = []\n",
    "fit_time = []\n",
    "predict_time = []"
   ]
  },
  {
   "cell_type": "markdown",
   "metadata": {},
   "source": [
    "### Catboost (not tunned)"
   ]
  },
  {
   "cell_type": "code",
   "execution_count": 26,
   "metadata": {},
   "outputs": [],
   "source": [
    "# Обучим модель катбуста и посчитаем время обучения\n",
    "cat = CatBoostRegressor(cat_features=categorical, random_state=12345)\n",
    "\n",
    "start = time.time()\n",
    "cat.fit(X_categorical_train, y_categotical_train, verbose=False);\n",
    "end = time.time()\n",
    "catboost_fit_time = end - start"
   ]
  },
  {
   "cell_type": "code",
   "execution_count": 27,
   "metadata": {},
   "outputs": [],
   "source": [
    "start = time.time()\n",
    "prediction_cat = cat.predict(X_categorical_test)\n",
    "end = time.time()\n",
    "\n",
    "catboost_predict_time = end - start"
   ]
  },
  {
   "cell_type": "code",
   "execution_count": 28,
   "metadata": {},
   "outputs": [],
   "source": [
    "rmse_cat = rmse(prediction_cat, y_categotical_test)\n",
    "\n",
    "rmse_list.append(rmse_cat)\n",
    "fit_time.append(catboost_fit_time)\n",
    "predict_time.append(catboost_predict_time)"
   ]
  },
  {
   "cell_type": "code",
   "execution_count": 29,
   "metadata": {},
   "outputs": [
    {
     "name": "stdout",
     "output_type": "stream",
     "text": [
      "RMSE модели CatBoost (not tunned) : 1818.2600530248378\n",
      "Время обучения: 585.4054760932922 секунд\n",
      "Время предсказания: 0.7008249759674072 секунд\n"
     ]
    }
   ],
   "source": [
    "conclusion('CatBoost (not tunned)',rmse_cat, catboost_fit_time, catboost_predict_time)"
   ]
  },
  {
   "cell_type": "markdown",
   "metadata": {},
   "source": [
    "### CatBoost (tunned)"
   ]
  },
  {
   "cell_type": "code",
   "execution_count": null,
   "metadata": {},
   "outputs": [],
   "source": [
    "grid = {'l2_leaf_reg': [1, 3, 5, 7],  \n",
    "       'learning_rate': [0.1, 1, 3],  \n",
    "       'max_depth': [6, 10]}  \n",
    "       \n",
    "cat = CatBoostRegressor(iterations=500, max_depth=10, learning_rate = 0.1, cat_features=categorical,  verbose=False)  \n",
    "\n",
    "grid_cat = GridSearchCV(estimator=cat, param_grid=grid)  \n",
    "\n",
    "grid_cat.fit(X_categorical_train, y_categotical_train)  \n",
    "\n",
    "grid_cat.best_params_  "
   ]
  },
  {
   "cell_type": "code",
   "execution_count": 30,
   "metadata": {},
   "outputs": [],
   "source": [
    "start = time.time()\n",
    "cat = CatBoostRegressor(iterations=500, max_depth=10, learning_rate = 0.1, l2_leaf_reg = 1, cat_features=categorical,  verbose=False)\n",
    "cat.fit(X_categorical_train, y_categotical_train)\n",
    "end = time.time()\n",
    "grid_cat_fit_time = end - start"
   ]
  },
  {
   "cell_type": "code",
   "execution_count": 31,
   "metadata": {},
   "outputs": [],
   "source": [
    "start = time.time() \n",
    "prediction_grid_cat = cat.predict(X_categorical_test) \n",
    "end = time.time() \n",
    "grid_cat_prediction_time = end - start"
   ]
  },
  {
   "cell_type": "code",
   "execution_count": 32,
   "metadata": {},
   "outputs": [
    {
     "name": "stdout",
     "output_type": "stream",
     "text": [
      "RMSE модели CatBoost (tunned) : 1736.409480765919\n",
      "Время обучения: 543.8872935771942 секунд\n",
      "Время предсказания: 1.3041183948516846 секунд\n"
     ]
    }
   ],
   "source": [
    "rmse_cat_grid = rmse(prediction_grid_cat, y_categotical_test)\n",
    "\n",
    "rmse_list.append(rmse_cat_grid) \n",
    "fit_time.append(grid_cat_fit_time) \n",
    "predict_time.append(grid_cat_prediction_time)\n",
    "\n",
    "conclusion('CatBoost (tunned)',rmse_cat_grid, grid_cat_fit_time, grid_cat_prediction_time)\n"
   ]
  },
  {
   "cell_type": "markdown",
   "metadata": {},
   "source": [
    "### LightGBM (not tunned)"
   ]
  },
  {
   "cell_type": "code",
   "execution_count": 33,
   "metadata": {},
   "outputs": [],
   "source": [
    "lgbm = LGBMRegressor(categorical_feature=categorical)\n",
    "start = time.time()\n",
    "lgbm.fit(X_categorical_train, y_categotical_train,)\n",
    "end = time.time()\n",
    "lgbm_fit_time = end - start"
   ]
  },
  {
   "cell_type": "code",
   "execution_count": 34,
   "metadata": {},
   "outputs": [],
   "source": [
    "start = time.time()\n",
    "prediction_lgbm = lgbm.predict(X_categorical_test)\n",
    "end = time.time()\n",
    "\n",
    "lgbm_predict_time = end - start"
   ]
  },
  {
   "cell_type": "code",
   "execution_count": 35,
   "metadata": {},
   "outputs": [],
   "source": [
    "rmse_lgbm = rmse(prediction_lgbm, y_categotical_test)\n",
    "\n",
    "rmse_list.append(rmse_lgbm)\n",
    "fit_time.append(lgbm_fit_time)\n",
    "predict_time.append(lgbm_predict_time)"
   ]
  },
  {
   "cell_type": "code",
   "execution_count": 36,
   "metadata": {},
   "outputs": [
    {
     "name": "stdout",
     "output_type": "stream",
     "text": [
      "RMSE модели LightGBM (not tunned) : 1786.780239610406\n",
      "Время обучения: 430.69659948349 секунд\n",
      "Время предсказания: 1.3017120361328125 секунд\n"
     ]
    }
   ],
   "source": [
    "conclusion('LightGBM (not tunned)',rmse_lgbm, lgbm_fit_time, lgbm_predict_time)"
   ]
  },
  {
   "cell_type": "markdown",
   "metadata": {},
   "source": [
    "### LightGBM (tunned)"
   ]
  },
  {
   "cell_type": "code",
   "execution_count": null,
   "metadata": {},
   "outputs": [],
   "source": [
    "LightGBM_grid = LGBMRegressor(   \n",
    "    boosting_type=\"gbdt\",    \n",
    "    random_state=10,   \n",
    "    n_estimators=50,  \n",
    "    num_leaves=30,   \n",
    "    max_depth=8,  \n",
    "    feature_fraction=0.5,    \n",
    "    bagging_fraction=0.8,   \n",
    "    bagging_freq=15,   \n",
    "    learning_rate=0.01,      \n",
    ")   \n",
    "\n",
    "params_opt = {'n_estimators':range(200, 600, 80),   \n",
    "    'num_leaves':range(20,60,10)  \n",
    "    }    \n",
    "\n",
    "gridSearchCV = GridSearchCV(estimator = LightGBM_grid,   \n",
    "    param_grid = params_opt,  \n",
    "    n_jobs=4,  \n",
    "    iid=False,   \n",
    "    verbose=1,  \n",
    "    cv=3)  \n",
    "    \n",
    "gridSearchCV.fit(X_categorical_train, y_categotical_train)  \n",
    "\n",
    "gridSearchCV.best_params_  "
   ]
  },
  {
   "cell_type": "code",
   "execution_count": 37,
   "metadata": {},
   "outputs": [],
   "source": [
    "lgbm_grid = LGBMRegressor(n_estimators = 520, num_leaves = 50, categorical_feature=categorical, max_depth=8, \n",
    "                          feature_fraction=0.5, bagging_fraction=0.8, bagging_freq=15, boosting_type=\"gbdt\", \n",
    "                          random_state=12345)\n",
    "start = time.time()\n",
    "lgbm_grid.fit(X_categorical_train, y_categotical_train)\n",
    "end = time.time()\n",
    "lgbm_grid_fit_time = end - start"
   ]
  },
  {
   "cell_type": "code",
   "execution_count": 38,
   "metadata": {},
   "outputs": [],
   "source": [
    "start = time.time()\n",
    "prediction_lgbm_grid = lgbm_grid.predict(X_categorical_test)\n",
    "end = time.time()\n",
    "\n",
    "lgbm_grid_predict_time = end - start"
   ]
  },
  {
   "cell_type": "code",
   "execution_count": 39,
   "metadata": {},
   "outputs": [
    {
     "name": "stdout",
     "output_type": "stream",
     "text": [
      "RMSE модели LightGBM (tunned) : 1725.7331022963149\n",
      "Время обучения: 1623.9685785770416 секунд\n",
      "Время предсказания: 10.51085352897644 секунд\n"
     ]
    }
   ],
   "source": [
    "rmse_lgbm_grid = rmse(prediction_lgbm_grid, y_categotical_test)\n",
    "\n",
    "rmse_list.append(rmse_lgbm_grid)\n",
    "fit_time.append(lgbm_grid_fit_time)\n",
    "predict_time.append(lgbm_grid_predict_time)\n",
    "\n",
    "conclusion('LightGBM (tunned)',rmse_lgbm_grid, lgbm_grid_fit_time, lgbm_grid_predict_time)"
   ]
  },
  {
   "cell_type": "markdown",
   "metadata": {},
   "source": [
    "### Linear regression"
   ]
  },
  {
   "cell_type": "code",
   "execution_count": 40,
   "metadata": {},
   "outputs": [],
   "source": [
    "lr = LinearRegression(normalize=True)\n",
    "start = time.time()\n",
    "lr.fit(X_train, y_train)\n",
    "end = time.time()\n",
    "lr_fit_time = end - start"
   ]
  },
  {
   "cell_type": "code",
   "execution_count": 41,
   "metadata": {},
   "outputs": [],
   "source": [
    "start = time.time()\n",
    "lr_prediction = lr.predict(X_test)\n",
    "end = time.time()\n",
    "lr_predict_time = end-start"
   ]
  },
  {
   "cell_type": "code",
   "execution_count": 42,
   "metadata": {},
   "outputs": [],
   "source": [
    "rmse_lr = rmse(lr_prediction, y_test)\n",
    "\n",
    "rmse_list.append(rmse_lr)\n",
    "fit_time.append(lr_fit_time)\n",
    "predict_time.append(lr_predict_time)"
   ]
  },
  {
   "cell_type": "code",
   "execution_count": 43,
   "metadata": {},
   "outputs": [
    {
     "name": "stdout",
     "output_type": "stream",
     "text": [
      "RMSE модели Linear regression (not tunned) : 3114.9977316363484\n",
      "Время обучения: 0.11040806770324707 секунд\n",
      "Время предсказания: 0.04317116737365723 секунд\n"
     ]
    }
   ],
   "source": [
    "conclusion('Linear regression (not tunned)',rmse_lr, lr_fit_time, lr_predict_time)"
   ]
  },
  {
   "cell_type": "markdown",
   "metadata": {},
   "source": [
    "### RandomForestRegressor"
   ]
  },
  {
   "cell_type": "code",
   "execution_count": null,
   "metadata": {},
   "outputs": [],
   "source": [
    "rfr = RandomForestRegressor()  \n",
    "\n",
    "grid_rfr = {   \n",
    "    'n_estimators': range(50, 100, 10),    \n",
    "    'max_depth' : range(5, 50, 5)  \n",
    "}  \n",
    "\n",
    "rfr_grid = GridSearchCV(estimator=rfr, param_grid=grid_rfr, cv= 3)  \n",
    "rfr_grid.fit(X_train, y_train)  \n",
    "\n",
    "rfr_grid.best_params_   \n"
   ]
  },
  {
   "cell_type": "code",
   "execution_count": 44,
   "metadata": {},
   "outputs": [],
   "source": [
    "start = time.time()\n",
    "rfr_best = RandomForestRegressor(max_depth = 45, n_estimators = 90)\n",
    "rfr_best = rfr_best.fit(X_train, y_train)\n",
    "end = time.time()\n",
    "rfr_fit_time = end - start"
   ]
  },
  {
   "cell_type": "code",
   "execution_count": 45,
   "metadata": {},
   "outputs": [],
   "source": [
    "start = time.time()\n",
    "rfr_prediction = rfr_best.predict(X_test)\n",
    "end = time.time()\n",
    "rfr_predict_time = end-start"
   ]
  },
  {
   "cell_type": "code",
   "execution_count": 46,
   "metadata": {},
   "outputs": [],
   "source": [
    "rmse_rfr = rmse(rfr_prediction, y_test)\n",
    "\n",
    "rmse_list.append(rmse_rfr)\n",
    "fit_time.append(rfr_fit_time)\n",
    "predict_time.append(rfr_predict_time)"
   ]
  },
  {
   "cell_type": "code",
   "execution_count": 47,
   "metadata": {},
   "outputs": [
    {
     "name": "stdout",
     "output_type": "stream",
     "text": [
      "RMSE модели RandomForestRegressor (tunned) : 1781.7970552305555\n",
      "Время обучения: 53.83959889411926 секунд\n",
      "Время предсказания: 3.7813382148742676 секунд\n"
     ]
    }
   ],
   "source": [
    "conclusion('RandomForestRegressor (tunned)',rmse_rfr, rfr_fit_time, rfr_predict_time)"
   ]
  },
  {
   "cell_type": "markdown",
   "metadata": {},
   "source": [
    "### Вывод\n",
    "Мы обучили 5 моделей. В процессе работы были использованы модели с градиентным бустингом (CatBoost (not tunned), CatBoost (tunned), LightGBM (not tunned), LightGBM (tunned)), так и классические модели (Linear regression, RandomForestRegressor). Для 3-ех из них мы подбирали гиперпараметры"
   ]
  },
  {
   "cell_type": "markdown",
   "metadata": {},
   "source": [
    "## Анализ моделей"
   ]
  },
  {
   "cell_type": "code",
   "execution_count": 48,
   "metadata": {},
   "outputs": [],
   "source": [
    "results = pd.DataFrame(data = [rmse_list, fit_time, predict_time], index = ['RMSE', 'Fit_time', 'Predict_time'],\n",
    "                      columns = ['CatBoost (not tunned)', 'CatBoost (tunned)', \n",
    "                                 'LightGBM (not tunned)', 'LightGBM (tunned)', \n",
    "                                 'Linear regression', 'RandomForestRegressor (tunned)'])"
   ]
  },
  {
   "cell_type": "code",
   "execution_count": 49,
   "metadata": {},
   "outputs": [
    {
     "data": {
      "text/html": [
       "<div>\n",
       "<style scoped>\n",
       "    .dataframe tbody tr th:only-of-type {\n",
       "        vertical-align: middle;\n",
       "    }\n",
       "\n",
       "    .dataframe tbody tr th {\n",
       "        vertical-align: top;\n",
       "    }\n",
       "\n",
       "    .dataframe thead th {\n",
       "        text-align: right;\n",
       "    }\n",
       "</style>\n",
       "<table border=\"1\" class=\"dataframe\">\n",
       "  <thead>\n",
       "    <tr style=\"text-align: right;\">\n",
       "      <th></th>\n",
       "      <th>CatBoost (not tunned)</th>\n",
       "      <th>CatBoost (tunned)</th>\n",
       "      <th>LightGBM (not tunned)</th>\n",
       "      <th>LightGBM (tunned)</th>\n",
       "      <th>Linear regression</th>\n",
       "      <th>RandomForestRegressor (tunned)</th>\n",
       "    </tr>\n",
       "  </thead>\n",
       "  <tbody>\n",
       "    <tr>\n",
       "      <td>RMSE</td>\n",
       "      <td>1818.260053</td>\n",
       "      <td>1736.409481</td>\n",
       "      <td>1786.780240</td>\n",
       "      <td>1725.733102</td>\n",
       "      <td>3114.997732</td>\n",
       "      <td>1781.797055</td>\n",
       "    </tr>\n",
       "    <tr>\n",
       "      <td>Fit_time</td>\n",
       "      <td>585.405476</td>\n",
       "      <td>543.887294</td>\n",
       "      <td>430.696599</td>\n",
       "      <td>1623.968579</td>\n",
       "      <td>0.110408</td>\n",
       "      <td>53.839599</td>\n",
       "    </tr>\n",
       "    <tr>\n",
       "      <td>Predict_time</td>\n",
       "      <td>0.700825</td>\n",
       "      <td>1.304118</td>\n",
       "      <td>1.301712</td>\n",
       "      <td>10.510854</td>\n",
       "      <td>0.043171</td>\n",
       "      <td>3.781338</td>\n",
       "    </tr>\n",
       "  </tbody>\n",
       "</table>\n",
       "</div>"
      ],
      "text/plain": [
       "              CatBoost (not tunned)  CatBoost (tunned)  LightGBM (not tunned)  \\\n",
       "RMSE                    1818.260053        1736.409481            1786.780240   \n",
       "Fit_time                 585.405476         543.887294             430.696599   \n",
       "Predict_time               0.700825           1.304118               1.301712   \n",
       "\n",
       "              LightGBM (tunned)  Linear regression  \\\n",
       "RMSE                1725.733102        3114.997732   \n",
       "Fit_time            1623.968579           0.110408   \n",
       "Predict_time          10.510854           0.043171   \n",
       "\n",
       "              RandomForestRegressor (tunned)  \n",
       "RMSE                             1781.797055  \n",
       "Fit_time                           53.839599  \n",
       "Predict_time                        3.781338  "
      ]
     },
     "execution_count": 49,
     "metadata": {},
     "output_type": "execute_result"
    }
   ],
   "source": [
    "results"
   ]
  },
  {
   "cell_type": "markdown",
   "metadata": {},
   "source": [
    "### Вывод\n",
    "Лучший результат показали Catboost, LightGBM и RandomForestRegressor с модифицированными гиперпараметрами (1725.73, 1736.40, 1781.79 соответственно), но по времени обучения выигрывается RandomForestRegressor, его скорость обучения 54 сек против 572 сек у Catboost и 1623 у LightGBM. Поэтому я рекомендовал бы RandomForestRegressor для данного проекта, так как согласно задаче нам важно время обучения модели. "
   ]
  },
  {
   "cell_type": "markdown",
   "metadata": {},
   "source": [
    "## Общий вывод"
   ]
  },
  {
   "cell_type": "markdown",
   "metadata": {},
   "source": [
    "На этапе предобработки данных были выполнены следующие шаги:\n",
    "* Удалили ненужные столбцы\n",
    "* Заполнили частично пропуски\n",
    "* Удалили оставшиеся пропуски\n",
    "* Заменили в \"NotRepaired\" yes на 1 , no на 0\n",
    "* Избавимся от автомобилей мощностью свыше 1000 лс\n",
    "* Привели категориальные признаки в номинальные с помощью LabelEncoder\n",
    "* Стандартизировали признаки с помощью StandardScaler\n",
    "\n",
    "На этапе обучения модели мы обучили 5 моделей. В процессе работы были использованы модели с градиентным бустингом (CatBoost (not tunned), CatBoost (tunned), LightGBM (not tunned), LightGBM (tunned)), так и классические модели (Linear regression, RandomForestRegressor). Для 3-ех из них мы подбирали гиперпараметры.\n",
    "\n",
    "На этапе анализа моделей мы пришли к выводу, что лучший результат показали Catboost и LightGBM с модифицированными гиперпараметрами (1733.09 и 1726.69 соответственно), но по времени обучения выигрывается LightGBM, его скорость обучения 45 сек против 572 сек у Catboost. Поэтому я рекомендовал бы LightGBM для данного проекта. "
   ]
  }
 ],
 "metadata": {
  "kernelspec": {
   "display_name": "Python 3",
   "language": "python",
   "name": "python3"
  },
  "language_info": {
   "codemirror_mode": {
    "name": "ipython",
    "version": 3
   },
   "file_extension": ".py",
   "mimetype": "text/x-python",
   "name": "python",
   "nbconvert_exporter": "python",
   "pygments_lexer": "ipython3",
   "version": "3.7.9"
  },
  "toc": {
   "base_numbering": 1,
   "nav_menu": {},
   "number_sections": true,
   "sideBar": true,
   "skip_h1_title": true,
   "title_cell": "Table of Contents",
   "title_sidebar": "Contents",
   "toc_cell": false,
   "toc_position": {},
   "toc_section_display": true,
   "toc_window_display": false
  }
 },
 "nbformat": 4,
 "nbformat_minor": 2
}
